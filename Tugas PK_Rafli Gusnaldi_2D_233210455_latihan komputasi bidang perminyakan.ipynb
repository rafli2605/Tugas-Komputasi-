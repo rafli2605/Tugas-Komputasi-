{
 "cells": [
  {
   "cell_type": "markdown",
   "metadata": {},
   "source": [
    "# KONSTRUKSI IF THEN ELSE"
   ]
  },
  {
   "cell_type": "code",
   "execution_count": 22,
   "metadata": {},
   "outputs": [],
   "source": [
    "import math\n",
    "\n"
   ]
  },
  {
   "cell_type": "markdown",
   "metadata": {},
   "source": [
    "## 1. volume reservoir"
   ]
  },
  {
   "cell_type": "code",
   "execution_count": 2,
   "metadata": {},
   "outputs": [
    {
     "name": "stdout",
     "output_type": "stream",
     "text": [
      "tinggi reservoir= 25.0\n",
      "jari jari =  7.0\n",
      "volume reservoir adalah=  3848.451000647496\n"
     ]
    }
   ],
   "source": [
    "import math\n",
    "\n",
    "r = float(input(\"masukkan jari jari \"))\n",
    "h = float(input(\"masukkan tinggi \"))\n",
    "\n",
    "\n",
    "Volume_reservoir= math.pi* r**2 *h\n",
    "\n",
    "print(\"tinggi reservoir=\", h)\n",
    "print(\"jari jari = \", r)\n",
    "print(\"volume reservoir adalah= \", Volume_reservoir) "
   ]
  },
  {
   "cell_type": "markdown",
   "metadata": {},
   "source": [
    "## 2. porositas"
   ]
  },
  {
   "cell_type": "code",
   "execution_count": 4,
   "metadata": {},
   "outputs": [
    {
     "name": "stdout",
     "output_type": "stream",
     "text": [
      "volume pori= 87.0\n",
      "volume batuan= 25.0\n",
      "porositas adalah=  348.0\n"
     ]
    }
   ],
   "source": [
    "import math\n",
    "\n",
    "Vp = float(input(\"masukkan volume pori \"))\n",
    "Vb = float(input(\"masukkan volume batuan \"))\n",
    "\n",
    "porositas = Vp/ Vb *100\n",
    "\n",
    "print(\"volume pori=\", Vp)\n",
    "print(\"volume batuan=\", Vb)\n",
    "print(\"porositas adalah= \", porositas) "
   ]
  },
  {
   "cell_type": "markdown",
   "metadata": {},
   "source": [
    "## 3. flow rate"
   ]
  },
  {
   "cell_type": "code",
   "execution_count": 5,
   "metadata": {},
   "outputs": [
    {
     "name": "stdout",
     "output_type": "stream",
     "text": [
      "volume = 300.0\n",
      "waktu= 100.0\n",
      "flow rate adalah=  3.0\n"
     ]
    }
   ],
   "source": [
    "\n",
    "import math\n",
    "\n",
    "V = float(input(\"masukkan volume  \"))\n",
    "t = float(input(\"masukkan waktu \"))\n",
    "\n",
    "flow_rate = V/t \n",
    "\n",
    "print(\"volume =\", V)\n",
    "print(\"waktu=\", t)\n",
    "print(\"flow rate adalah= \", flow_rate)"
   ]
  },
  {
   "cell_type": "markdown",
   "metadata": {},
   "source": [
    "## 4. faktor pemulihan"
   ]
  },
  {
   "cell_type": "code",
   "execution_count": 6,
   "metadata": {},
   "outputs": [
    {
     "name": "stdout",
     "output_type": "stream",
     "text": [
      "jumlah minyak yang diproduksi= 500.0\n",
      "jumlah minyak awal= 150.0\n",
      "faktor pemulihan=  3.333318518584362\n"
     ]
    }
   ],
   "source": [
    "\n",
    "import math\n",
    "\n",
    "Np = float(input(\"masukkan jumlah minyak yang diproduksi \"))\n",
    "N = float(input(\"masukkan jumlah minyak awal \"))\n",
    "m = 0.1\n",
    "\n",
    "faktor_pemulihan = Np/(N + m/N)\n",
    "\n",
    "print(\"jumlah minyak yang diproduksi=\", Np)\n",
    "print(\"jumlah minyak awal=\", N)\n",
    "print(\"faktor pemulihan= \", faktor_pemulihan) "
   ]
  },
  {
   "cell_type": "markdown",
   "metadata": {},
   "source": [
    "## 5. permeabilitas efektif"
   ]
  },
  {
   "cell_type": "code",
   "execution_count": 7,
   "metadata": {},
   "outputs": [
    {
     "name": "stdout",
     "output_type": "stream",
     "text": [
      "permeabilitas relatif air= 300.0\n",
      "saturasi air= 200.0\n",
      "saturasi minyak residual=  100.0\n",
      "permeabilitas efektif adalah 1072812000000.0\n"
     ]
    }
   ],
   "source": [
    "import math\n",
    "\n",
    "Krw= float(input(\"masukkan permeabilitas relatif air \"))\n",
    "Sw = float(input(\"masukkan saturasi air \"))\n",
    "Sor = float(input(\"masukkan saturasi minyak residual\"))\n",
    "n = 2\n",
    "m = 2\n",
    "\n",
    "permeabilitas_efektif= Krw* (Sw**n)*(1-Sor - Sw)**m\n",
    "\n",
    "print(\"permeabilitas relatif air=\", Krw)\n",
    "print(\"saturasi air=\", Sw)\n",
    "print(\"saturasi minyak residual= \", Sor) \n",
    "print(\"permeabilitas efektif adalah\", permeabilitas_efektif)"
   ]
  }
 ],
 "metadata": {
  "kernelspec": {
   "display_name": "base",
   "language": "python",
   "name": "python3"
  },
  "language_info": {
   "codemirror_mode": {
    "name": "ipython",
    "version": 3
   },
   "file_extension": ".py",
   "mimetype": "text/x-python",
   "name": "python",
   "nbconvert_exporter": "python",
   "pygments_lexer": "ipython3",
   "version": "3.11.5"
  }
 },
 "nbformat": 4,
 "nbformat_minor": 2
}
